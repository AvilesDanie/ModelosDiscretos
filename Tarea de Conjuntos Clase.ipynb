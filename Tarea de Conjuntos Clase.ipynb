{
 "cells": [
  {
   "cell_type": "code",
   "execution_count": 10,
   "id": "e542a11b",
   "metadata": {},
   "outputs": [
    {
     "name": "stdout",
     "output_type": "stream",
     "text": [
      "por favor ingrese algo: efef\n",
      "efef\n",
      "Esta informacion no existe efef\n"
     ]
    }
   ],
   "source": [
    "\"\"\"\n",
    "GENERALIDADES\n",
    "\"\"\"\n",
    "dato = input(\"por favor ingrese algo: \")\n",
    "print (dato)\n",
    "lista = [\"Hola\",\"Mundo\"]\n",
    "\n",
    "if lista.count(dato)>0:\n",
    "    print(\"Esta informacion existe:\", dato)\n",
    "else:\n",
    "    print(\"Esta informacion no existe\",dato)"
   ]
  },
  {
   "cell_type": "code",
   "execution_count": 13,
   "id": "8cbd1c04",
   "metadata": {},
   "outputs": [
    {
     "name": "stdout",
     "output_type": "stream",
     "text": [
      "Ingrese el primer numero: 7\n",
      "Ingrese el segundo numero: 8\n",
      "78\n"
     ]
    }
   ],
   "source": [
    "#Calculadora\n",
    "primerNumero = input(\"Ingrese el primer numero: \")\n",
    "segundoNumero = input(\"Ingrese el segundo numero: \")\n",
    "\n",
    "print(primerNumero + segundoNumero)"
   ]
  },
  {
   "cell_type": "code",
   "execution_count": 15,
   "id": "38119b40",
   "metadata": {},
   "outputs": [
    {
     "name": "stdout",
     "output_type": "stream",
     "text": [
      "Ingrese el primer numero: 9\n",
      "Ingrese el segundo numero: 7\n",
      "16\n"
     ]
    }
   ],
   "source": [
    "primerNumero = input(\"Ingrese el primer numero: \")\n",
    "segundoNumero = input(\"Ingrese el segundo numero: \")\n",
    "\n",
    "primero = int(primerNumero)\n",
    "segundo = int(segundoNumero)\n",
    "\n",
    "print(primero + segundo)"
   ]
  },
  {
   "cell_type": "code",
   "execution_count": 19,
   "id": "8664406d",
   "metadata": {},
   "outputs": [
    {
     "name": "stdout",
     "output_type": "stream",
     "text": [
      "17\n"
     ]
    }
   ],
   "source": [
    "#Agregar validacion\n",
    "try:\n",
    "    primero = int(primerNumero) #input(\"Ingrese el primer numero: \")\n",
    "except:\n",
    "    primero = \"cadena\"\n",
    "    \n",
    "segundoNumero = 8 #input(\"Ingrese el segundo numero: \")\n",
    "\n",
    "try:\n",
    "    segundo = int(segundoNumero)\n",
    "except:\n",
    "    segundo = \"cadena\"\n",
    "    \n",
    "if primero == \"Cadena\" or segundo == \"Cadena\":\n",
    "    print(\"Ingreso mal un dato, pruebe por favor una vez mas ingresando numero\")\n",
    "else:\n",
    "    print(primero + segundo)"
   ]
  },
  {
   "cell_type": "code",
   "execution_count": 21,
   "id": "11164aa4",
   "metadata": {},
   "outputs": [
    {
     "name": "stdout",
     "output_type": "stream",
     "text": [
      "0\n",
      "1\n",
      "2\n",
      "3\n",
      "4\n",
      "5\n"
     ]
    }
   ],
   "source": [
    "i=0\n",
    "while i<= 10:\n",
    "    print(i)\n",
    "    if i == 5:\n",
    "        break\n",
    "    i = i + 1"
   ]
  },
  {
   "cell_type": "code",
   "execution_count": 24,
   "id": "d19f0620",
   "metadata": {},
   "outputs": [
    {
     "name": "stdout",
     "output_type": "stream",
     "text": [
      "1\n",
      "2\n",
      "3\n",
      "4\n",
      "5\n",
      "6\n",
      "7\n",
      "8\n",
      "9\n",
      "10\n",
      "11\n"
     ]
    }
   ],
   "source": [
    "i=0\n",
    "while i<= 10:\n",
    "    i = i + 1\n",
    "    print(i)\n",
    "    if i == 5:\n",
    "        continue\n",
    "    "
   ]
  },
  {
   "cell_type": "code",
   "execution_count": 26,
   "id": "612b7e5d",
   "metadata": {},
   "outputs": [
    {
     "name": "stdout",
     "output_type": "stream",
     "text": [
      "Juan\n",
      "Pedro\n",
      "Maria\n"
     ]
    }
   ],
   "source": [
    "personas = [\"Juan\",\"Pedro\",\"Maria\"]\n",
    "\n",
    "for persona in personas:\n",
    "    print(persona)"
   ]
  },
  {
   "cell_type": "code",
   "execution_count": 27,
   "id": "d7375cb1",
   "metadata": {},
   "outputs": [
    {
     "name": "stdout",
     "output_type": "stream",
     "text": [
      "J\n",
      "u\n",
      "a\n",
      "n\n"
     ]
    }
   ],
   "source": [
    "persona = \"Juan\"\n",
    "for caracter in persona:\n",
    "    print(caracter)"
   ]
  },
  {
   "cell_type": "code",
   "execution_count": 37,
   "id": "56b7876a",
   "metadata": {},
   "outputs": [
    {
     "name": "stdout",
     "output_type": "stream",
     "text": [
      "Juan 5\n",
      "Maria 27\n",
      "Pedro 14\n",
      "Luis 35\n"
     ]
    }
   ],
   "source": [
    "personas = [\"Juan\",\"Maria\",\"Pedro\",\"Luis\"]\n",
    "edades = [5,27,14,35]\n",
    "\n",
    "#for persona in personas:\n",
    "#    for edad in edades:\n",
    "#        print(persona,edad)\n",
    "        \n",
    "for i in range(len(edades)):\n",
    "    print(personas[i],edades[i])"
   ]
  },
  {
   "cell_type": "code",
   "execution_count": 39,
   "id": "61865623",
   "metadata": {},
   "outputs": [
    {
     "name": "stdout",
     "output_type": "stream",
     "text": [
      "Helo World en funciones\n"
     ]
    }
   ],
   "source": [
    "def saludar():\n",
    "    print(\"Helo World en funciones\")\n",
    "\n",
    "if __name__ == __name__:\n",
    "    saludar()"
   ]
  },
  {
   "cell_type": "code",
   "execution_count": null,
   "id": "dc1d4db5",
   "metadata": {},
   "outputs": [],
   "source": []
  }
 ],
 "metadata": {
  "kernelspec": {
   "display_name": "Python 3 (ipykernel)",
   "language": "python",
   "name": "python3"
  },
  "language_info": {
   "codemirror_mode": {
    "name": "ipython",
    "version": 3
   },
   "file_extension": ".py",
   "mimetype": "text/x-python",
   "name": "python",
   "nbconvert_exporter": "python",
   "pygments_lexer": "ipython3",
   "version": "3.11.3"
  }
 },
 "nbformat": 4,
 "nbformat_minor": 5
}
